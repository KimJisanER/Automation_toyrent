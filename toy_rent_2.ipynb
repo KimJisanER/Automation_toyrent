{
  "nbformat": 4,
  "nbformat_minor": 0,
  "metadata": {
    "colab": {
      "name": "toy_rent_2.ipynb",
      "provenance": [],
      "mount_file_id": "11R8FB24yynNGg7gvvpFli7SYKz9F6smT",
      "authorship_tag": "ABX9TyML7iNmnPVjMIWws6UBCSkl",
      "include_colab_link": true
    },
    "kernelspec": {
      "name": "python3",
      "display_name": "Python 3"
    },
    "language_info": {
      "name": "python"
    }
  },
  "cells": [
    {
      "cell_type": "markdown",
      "metadata": {
        "id": "view-in-github",
        "colab_type": "text"
      },
      "source": [
        "<a href=\"https://colab.research.google.com/github/KimJisanER/KimJisan_life/blob/main/toy_rent_2.ipynb\" target=\"_parent\"><img src=\"https://colab.research.google.com/assets/colab-badge.svg\" alt=\"Open In Colab\"/></a>"
      ]
    },
    {
      "cell_type": "code",
      "execution_count": null,
      "metadata": {
        "id": "xI93pF7rMDUd"
      },
      "outputs": [],
      "source": [
        "import pandas as pd\n",
        "import numpy as np\n",
        "\n",
        "data=pd.read_csv('toy_raw.csv',sep=',', encoding='cp949')\n",
        "\n",
        "data=data.iloc[:,3:6]\n",
        "data['대여상태']=data['대여상태'].replace('보유중',1)\n",
        "data['대여상태']=data['대여상태'].replace('대여중',0)\n",
        "print(data)\n",
        "data_sum=data.groupby(['상품명']).sum()\n",
        "data_sum=data_sum.reset_index()\n",
        "print(data_sum)\n",
        "\n",
        "c=[]\n",
        "for i in range(len(data_sum)):\n",
        "    if data_sum['대여상태'][i]==0:\n",
        "        c.append(data_sum['상품명'][i])\n",
        "\n",
        "print(c)\n",
        "c=pd.DataFrame(c)\n",
        "print(c)\n",
        "\n",
        "c.to_csv('toy_out.csv', encoding='cp949')"
      ]
    }
  ]
}