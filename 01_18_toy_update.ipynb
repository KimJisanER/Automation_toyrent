{
  "nbformat": 4,
  "nbformat_minor": 0,
  "metadata": {
    "colab": {
      "name": "01_18_toy_update.ipynb",
      "provenance": [],
      "collapsed_sections": [],
      "mount_file_id": "19TAIZaOCVGH4r3SP9uYclBkZnIlVIkWb",
      "authorship_tag": "ABX9TyO8bF4O8uRa9SQLWvGjpM90",
      "include_colab_link": true
    },
    "kernelspec": {
      "name": "python3",
      "display_name": "Python 3"
    },
    "language_info": {
      "name": "python"
    }
  },
  "cells": [
    {
      "cell_type": "markdown",
      "metadata": {
        "id": "view-in-github",
        "colab_type": "text"
      },
      "source": [
        "<a href=\"https://colab.research.google.com/github/KimJisanER/KimJisan_life/blob/main/01_18_toy_update.ipynb\" target=\"_parent\"><img src=\"https://colab.research.google.com/assets/colab-badge.svg\" alt=\"Open In Colab\"/></a>"
      ]
    },
    {
      "cell_type": "markdown",
      "source": [
        "**장난감 대여,보유현황 업데이트 코드**"
      ],
      "metadata": {
        "id": "bD3iwivJEfcl"
      }
    },
    {
      "cell_type": "markdown",
      "source": [
        "조이렌트 엑셀파일을 csv파일로 변환 후 사용"
      ],
      "metadata": {
        "id": "UtaK-WqJEikO"
      }
    },
    {
      "cell_type": "markdown",
      "source": [
        "\n",
        "\n",
        "1.   조이렌트 대여현황 엑셀파일을 '다른 이름으로 저장'하여 csv 파일로 바꿔준다.\n",
        " ( 이전 자료 1개, 오늘 자료 1개 총 2개) \n",
        "2.   구글 코랩에서 좌측 폴더 모양 아이콘에 들어가 3번째 폴더모양 아이콘 '드라이브 마운트'를 해준다.\n",
        "3. drive 폴더 안 mydrive에 파일을 업로드할 폴더를 만들어준다. 폴더명 : toy ( 이미 있다면 안해도됨)\n",
        "4. toy폴더에 csv로 변환한 엑셀파일을 올려준다. (총 2개)\n",
        "5. \n",
        "prior=pd.read_csv('/content/drive/MyDrive/toy/이곳에 이전자료 파일이름.csv',sep=',', encoding='cp949') 적혀져 있는 코드에서 파일 이름만 바꿔준다. (주의: 따옴표 건들지 않기)\n",
        "\n",
        "6. later=pd.read_csv('/content/drive/MyDrive/toy/이곳에 최근자료 파일이름.csv',sep=',', encoding='cp949') 여기서도 파일 이름만 바꿔준다.\n",
        "\n",
        "7. 여기까지 했으면 실행버튼 누르고 출력결과 확인! 끝\n"
      ],
      "metadata": {
        "id": "f6LPIvtyE0zr"
      }
    },
    {
      "cell_type": "code",
      "execution_count": 5,
      "metadata": {
        "colab": {
          "base_uri": "https://localhost:8080/"
        },
        "id": "4O_IGPyHAx2V",
        "outputId": "5a82fe4b-0e56-444b-e6c5-b92fbb74220a"
      },
      "outputs": [
        {
          "output_type": "stream",
          "name": "stdout",
          "text": [
            "\n",
            "대여중으로 바꿀 장난감:\n",
            " ['발레 프린세스 페어리 틴 마그네틱', '경비대 드레스 업', '리틀 음악교실'] \n",
            "\n",
            "보유중으로 바꿀 장난감:\n",
            " ['30주년 코지경찰차', '6단계높이조절 농구대-블루'] \n",
            "\n"
          ]
        }
      ],
      "source": [
        "import pandas as pd\n",
        "import numpy as np\n",
        "\n",
        "\n",
        "#이전 데이터(csv)불러오기\n",
        "prior=pd.read_csv('/content/drive/MyDrive/toy/01_12_sc_2.csv',sep=',', encoding='cp949')\n",
        "#최근 데이터(csv)불러오기\n",
        "later=pd.read_csv('/content/drive/MyDrive/toy/01_12_sc_3.csv',sep=',', encoding='cp949')\n",
        "\n",
        "\n",
        "#보유==0인 장난감 리스트 정리해주는 함수\n",
        "def toylist(data):\n",
        "  data=data.iloc[:,3:6]\n",
        "  data['대여상태']=data['대여상태'].replace('보유중',1)\n",
        "  data['대여상태']=data['대여상태'].replace('대여중',0)\n",
        "  data_sum=data.groupby(['상품명']).sum()\n",
        "  data_sum=data_sum.reset_index()\n",
        "  c=[]\n",
        "  for i in range(len(data_sum)):\n",
        "    if data_sum['대여상태'][i]==0:\n",
        "        c.append(data_sum['상품명'][i])\n",
        "  return(c)\n",
        "\n",
        "#리스트 비교\n",
        "out_update=list(set(toylist(later))-set(toylist(prior)))\n",
        "in_update=list(set(toylist(prior))-set(toylist(later)))\n",
        "\n",
        "#출력\n",
        "print()\n",
        "print('대여중으로 바꿀 장난감:\\n',out_update,'\\n')\n",
        "print('보유중으로 바꿀 장난감:\\n',in_update,'\\n')\n",
        "\n",
        "#데이터프레임 정리 및 csv저장\n",
        "out_update=pd.DataFrame(out_update)\n",
        "in_update=pd.DataFrame(in_update)\n",
        "total_update=pd.concat([out_update,in_update], axis=1)\n",
        "total_update.columns=['대여중으로 변경','보유중으로 변경']\n",
        "# print(total_update)\n",
        "total_update.to_csv('toy_out.csv',index=False)"
      ]
    }
  ]
}
