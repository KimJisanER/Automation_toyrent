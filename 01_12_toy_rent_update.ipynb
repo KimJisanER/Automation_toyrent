{
  "nbformat": 4,
  "nbformat_minor": 0,
  "metadata": {
    "colab": {
      "name": "01_12_toy_rent_update.ipynb",
      "provenance": [],
      "mount_file_id": "1lDcHxPT__4SM8KIvrwFxD1wpOEikCBE5",
      "authorship_tag": "ABX9TyMxX/5kgt/mxS8aJoh2HQ+h",
      "include_colab_link": true
    },
    "kernelspec": {
      "name": "python3",
      "display_name": "Python 3"
    },
    "language_info": {
      "name": "python"
    }
  },
  "cells": [
    {
      "cell_type": "markdown",
      "metadata": {
        "id": "view-in-github",
        "colab_type": "text"
      },
      "source": [
        "<a href=\"https://colab.research.google.com/github/KimJisanER/KimJisan_life/blob/main/01_12_toy_rent_update.ipynb\" target=\"_parent\"><img src=\"https://colab.research.google.com/assets/colab-badge.svg\" alt=\"Open In Colab\"/></a>"
      ]
    },
    {
      "cell_type": "markdown",
      "source": [
        "**장난감 대여,보유현황 업데이트**"
      ],
      "metadata": {
        "id": "1YG23I5iKQCT"
      }
    },
    {
      "cell_type": "markdown",
      "source": [
        "조이렌트 엑셀파일을 csv파일로 변환 후 사용"
      ],
      "metadata": {
        "id": "7RkNHf_xLEua"
      }
    },
    {
      "cell_type": "code",
      "execution_count": 18,
      "metadata": {
        "colab": {
          "base_uri": "https://localhost:8080/"
        },
        "id": "9g2H_oHp5plN",
        "outputId": "d9900e54-c5a8-4515-f9c9-b0265a7b47ee"
      },
      "outputs": [
        {
          "output_type": "stream",
          "name": "stdout",
          "text": [
            "\n",
            "대여중으로 바꿀 장난감:\n",
            " ['발레 프린세스 페어리 틴 마그네틱', '리틀 음악교실', '경비대 드레스 업'] \n",
            "\n",
            "보유중으로 바꿀 장난감:\n",
            " ['6단계높이조절 농구대-블루', '30주년 코지경찰차'] \n",
            "\n"
          ]
        }
      ],
      "source": [
        "import pandas as pd\n",
        "import numpy as np\n",
        "\n",
        "\n",
        "#이전 데이터(csv)불러오기\n",
        "data=pd.read_csv('/content/drive/MyDrive/toy/01_12_sc_2.csv',sep=',', encoding='cp949')\n",
        "#최근 데이터(csv)불러오기\n",
        "data_2=pd.read_csv('/content/drive/MyDrive/toy/01_12_sc_3.csv',sep=',', encoding='cp949')\n",
        "\n",
        "\n",
        "#이전 데이터 보유==0인 장난감 리스트 정리\n",
        "data=data.iloc[:,3:6]\n",
        "data['대여상태']=data['대여상태'].replace('보유중',1)\n",
        "data['대여상태']=data['대여상태'].replace('대여중',0)\n",
        "data_sum=data.groupby(['상품명']).sum()\n",
        "data_sum=data_sum.reset_index()\n",
        "\n",
        "c=[]\n",
        "for i in range(len(data_sum)):\n",
        "    if data_sum['대여상태'][i]==0:\n",
        "        c.append(data_sum['상품명'][i])\n",
        "\n",
        "\n",
        "#최근 데이터 보유==0인 장난감 리스트 정리\n",
        "data_2=data_2.iloc[:,3:6]\n",
        "data_2['대여상태']=data_2['대여상태'].replace('보유중',1)\n",
        "data_2['대여상태']=data_2['대여상태'].replace('대여중',0)\n",
        "data_sum_2=data_2.groupby(['상품명']).sum()\n",
        "data_sum_2=data_sum_2.reset_index()\n",
        "\n",
        "c_2=[]\n",
        "for i in range(len(data_sum_2)):\n",
        "    if data_sum_2['대여상태'][i]==0:\n",
        "        c_2.append(data_sum_2['상품명'][i])\n",
        "\n",
        "#리스트 비교\n",
        "out_update=list(set(c_2)-set(c))\n",
        "in_update=list(set(c)-set(c_2))\n",
        "\n",
        "#출력\n",
        "print()\n",
        "print('대여중으로 바꿀 장난감:\\n',out_update,'\\n')\n",
        "print('보유중으로 바꿀 장난감:\\n',in_update,'\\n')\n",
        "\n",
        "#데이터프레임 정리 및 csv저장\n",
        "out_update=pd.DataFrame(out_update)\n",
        "in_update=pd.DataFrame(in_update)\n",
        "total_update=pd.concat([out_update,in_update], axis=1)\n",
        "total_update.columns=['대여중으로 변경','보유중으로 변경']\n",
        "# print(total_update)\n",
        "total_update.to_csv('toy_out.csv',index=False)\n"
      ]
    }
  ]
}